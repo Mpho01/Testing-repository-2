{
 "cells": [
  {
   "cell_type": "markdown",
   "metadata": {
    "colab_type": "text",
    "id": "EYGAyptwP8b7"
   },
   "source": [
    "# Introduction to List Comprehensions\n",
    "© Explore Data Science Academy"
   ]
  },
  {
   "cell_type": "markdown",
   "metadata": {
    "colab_type": "text",
    "id": "0c4h_i2TSIuN"
   },
   "source": [
    "# Introduction \n",
    "\n",
    "Python's list comprehensions are the equivalent of [set builder notation](https://https://www.mathsisfun.com/sets/set-builder-notation.html), where a set is constructed using an expression describing what it should contain. For example, the expression:\n",
    "# $$\\{x^{2} \\mid x \\in  \\mathbb{Z} , 0\\leq x< 5 \\}$$\n",
    "refers to \"the squares of the set of all integers $x$ , such that $x$ is greater than or equal to 0 and less then 5\" which is the set [0,1,4,9,16].\n",
    "List comprehensions are a compact way to create lists in python and can sometimes be more efficient (i.e. execute faster) than generic **for** loops in python. \n",
    "\n",
    "## Learning Objectives\n",
    "In this train you will:\n",
    "* Understand list comprehension syntax\n",
    "* Explore different ways to apply list comprehensions.\n",
    "* Implement your own list comprehensions.\n",
    "\n",
    "## Overview\n",
    "* List Comprehension Syntax\n",
    "* List Comprehension Examples\n",
    "* Exercises"
   ]
  },
  {
   "cell_type": "markdown",
   "metadata": {
    "colab_type": "text",
    "id": "Qg0SMhWIk0Ya"
   },
   "source": [
    "## List Comprehension Syntax\n",
    "\n",
    "List comprehensions are always returned as a list. The general syntax is as follows:\n",
    "\n",
    "[ **return computation on this item** for **item** in **list** if item satisfies **condition** ] \n",
    "\n",
    "Note the whole list comprehension expression is in square brackets, which signifies a python list. Without the brackets, python would return a syntax error. Have a look at the example below:\n",
    "\n",
    "\n",
    "\n"
   ]
  },
  {
   "cell_type": "code",
   "execution_count": 0,
   "metadata": {
    "colab": {
     "base_uri": "https://localhost:8080/",
     "height": 35
    },
    "colab_type": "code",
    "id": "Fkp5cKgIFUBP",
    "outputId": "8cfc6ce9-4a90-4c9d-f26f-16657c9a2a75"
   },
   "outputs": [
    {
     "data": {
      "text/plain": [
       "[4, 16, 36]"
      ]
     },
     "execution_count": 1,
     "metadata": {
      "tags": []
     },
     "output_type": "execute_result"
    }
   ],
   "source": [
    "nums = [1, 2, 3, 4, 5, 6]\n",
    "\n",
    "[x**2 for x in nums if x%2==0] \n"
   ]
  },
  {
   "cell_type": "markdown",
   "metadata": {
    "colab_type": "text",
    "id": "U8iICNMrpRUZ"
   },
   "source": [
    "Here's what's going on inside the brackets:\n",
    "\n",
    "* x is the item in the list \"nums\"\n",
    "* x is squared if it satisfies the condition- in this case it must be even\n",
    "\n",
    "Let's see what happens if we leave the brackets out.\n"
   ]
  },
  {
   "cell_type": "code",
   "execution_count": 0,
   "metadata": {
    "colab": {},
    "colab_type": "code",
    "id": "cbA-jyolpOSZ"
   },
   "outputs": [],
   "source": [
    "nums = [1, 2, 3, 4, 5, 6]\n",
    "\n",
    "x**2 for x in nums if x%2==0 \n"
   ]
  },
  {
   "cell_type": "markdown",
   "metadata": {
    "colab_type": "text",
    "id": "rQWSTQnDIdPS"
   },
   "source": [
    "## List Comprehension Examples:\n",
    "List comprehensions can make your code more readable and reduce the number of lines of code. It also allows for you to create a modified list in a more efficient way than using the `append( )` or `remove( )` methods multiple times. However, you should always take care and prioritise code readability.\n"
   ]
  },
  {
   "cell_type": "markdown",
   "metadata": {
    "colab_type": "text",
    "id": "McZh5jA6qky4"
   },
   "source": [
    "### Example 1: Basic \"for loop\" to list comprehension\n",
    "\n",
    "This is how you would code a normal for loop to return a list of all the characters in the string `name = 'explore'`."
   ]
  },
  {
   "cell_type": "code",
   "execution_count": 0,
   "metadata": {
    "colab": {
     "base_uri": "https://localhost:8080/",
     "height": 35
    },
    "colab_type": "code",
    "id": "pLxI2lDgI4eu",
    "outputId": "dfe4e955-3433-4a86-a843-a0dddd9fba22"
   },
   "outputs": [
    {
     "name": "stdout",
     "output_type": "stream",
     "text": [
      "['e', 'x', 'p', 'l', 'o', 'r', 'e']\n"
     ]
    }
   ],
   "source": [
    "name = 'explore'\n",
    "character_list = [] #open up a new empty list\n",
    "for character in name: #initiate a for loop to iterate over a string\n",
    "    character_list.append(character) #append each character to the new list\n",
    "\n",
    "print(character_list)"
   ]
  },
  {
   "cell_type": "markdown",
   "metadata": {
    "colab_type": "text",
    "id": "PwM0cJ-xJjW8"
   },
   "source": [
    "We can easily create the same list with one line of code using a list comprehension as follows:"
   ]
  },
  {
   "cell_type": "code",
   "execution_count": 0,
   "metadata": {
    "colab": {
     "base_uri": "https://localhost:8080/",
     "height": 34
    },
    "colab_type": "code",
    "id": "j_r8HUC5YGKX",
    "outputId": "03638a1e-47c8-422f-e271-9db5c7d4b866"
   },
   "outputs": [
    {
     "name": "stdout",
     "output_type": "stream",
     "text": [
      "['e', 'x', 'p', 'l', 'o', 'r', 'e']\n"
     ]
    }
   ],
   "source": [
    "name= 'explore'\n",
    "character_list = [character for character in name]\n",
    "print(character_list)"
   ]
  },
  {
   "cell_type": "markdown",
   "metadata": {
    "colab_type": "text",
    "id": "cNwm_xPoe0dA"
   },
   "source": [
    "Here's a summary of what's going on:\n",
    "\n",
    "*   The square brackets \"[ ]\" tells us that the output will be a list. \n",
    "* This list is saved into the the`character_list` variable\n",
    "*   The expression `for character in name` is the for loop that will iterate over each character in the string.\n",
    "\n",
    "In essence, we are returning a list (i.e. `character_list`) consisting of each `character` in the string `name`."
   ]
  },
  {
   "cell_type": "markdown",
   "metadata": {
    "colab_type": "text",
    "id": "rrwb6WNvqwO8"
   },
   "source": [
    "### Example 2: Conditional statements\n",
    "\n",
    "For this exercise, we want to know how many times the letter 'e' appears in the sentence. We can do this by creating a list comprehension that will iterate over the string, comparing each list item to 'e', and adding it to the list if `item == 'e'` is True. "
   ]
  },
  {
   "cell_type": "code",
   "execution_count": 0,
   "metadata": {
    "colab": {
     "base_uri": "https://localhost:8080/",
     "height": 52
    },
    "colab_type": "code",
    "id": "t6letBCvYbtn",
    "outputId": "fd0f93a1-2391-4e96-bc48-810960eebdbe"
   },
   "outputs": [
    {
     "name": "stdout",
     "output_type": "stream",
     "text": [
      "['e', 'e', 'e', 'e', 'e']\n",
      "The are 5 e's in the string\n"
     ]
    }
   ],
   "source": [
    "my_list = 'explore data science academy'\n",
    "l = [item for item in my_list if item == 'e']\n",
    "print(l)\n",
    "print(f\"The are {len(l)} e's in the string\")"
   ]
  },
  {
   "cell_type": "markdown",
   "metadata": {
    "colab_type": "text",
    "id": "8fS3xl9hyvn_"
   },
   "source": [
    "Here, the list comprehension:\n",
    "\n",
    "1. Loops over all characters in the list `my_list`.\n",
    "2. Checks if a character `item` is equal to 'e'.\n",
    "3. Adds this character `item` to the final list if the condition `item == 'e'` is true."
   ]
  },
  {
   "cell_type": "markdown",
   "metadata": {
    "colab_type": "text",
    "id": "dYGXwjQMMh37"
   },
   "source": [
    "### Example 3: Applying functions to list items\n",
    "\n",
    "We already know that if we need to change a string into all uppercase, we can use the method `.upper()`, but what happens if we want to do this to multiple strings in a list? The code below says that we want to return an upper case version of every item in `lowercase_list`"
   ]
  },
  {
   "cell_type": "code",
   "execution_count": 0,
   "metadata": {
    "colab": {
     "base_uri": "https://localhost:8080/",
     "height": 34
    },
    "colab_type": "code",
    "id": "U-HJKkQ8Mg6A",
    "outputId": "624e024d-997a-49d2-a693-c4f01350b578"
   },
   "outputs": [
    {
     "name": "stdout",
     "output_type": "stream",
     "text": [
      "['EXPLORE', 'JUPYTER', 'ACADEMY', 'PYTHON']\n"
     ]
    }
   ],
   "source": [
    "lowercase_list = [\"explore\", \"jupyter\", \"academy\", \"python\"]\n",
    "uppercase_list = [item.upper() for item in lowercase_list] \n",
    "\n",
    "print(uppercase_list) "
   ]
  },
  {
   "cell_type": "markdown",
   "metadata": {
    "colab_type": "text",
    "id": "SnnFLV52M9NG"
   },
   "source": [
    "In the above code block, we call the `.upper` function on each item in `lowercase_list`."
   ]
  },
  {
   "cell_type": "markdown",
   "metadata": {
    "colab_type": "text",
    "id": "9xLykS4KO2uR"
   },
   "source": [
    "### Example 4: Iterating over 2 lists simultaneously\n",
    "\n",
    "Say we have 2 lists and want to find the numbers that appear in both. We can pull this off using list comprehension as follows:"
   ]
  },
  {
   "cell_type": "code",
   "execution_count": 0,
   "metadata": {
    "colab": {
     "base_uri": "https://localhost:8080/",
     "height": 34
    },
    "colab_type": "code",
    "id": "0L7MHgoZOg3B",
    "outputId": "9b6caf3a-3f77-402b-a8db-025c8cd7ee08"
   },
   "outputs": [
    {
     "name": "stdout",
     "output_type": "stream",
     "text": [
      "[2, 3, 4, 11]\n"
     ]
    }
   ],
   "source": [
    "list_a = [1, 2, 3, 4, 6, 7, 9, 11]\n",
    "list_b = [2, 3, 4, 5, 11]\n",
    "\n",
    "intersection = [a for a in list_a for b in list_b if a == b]\n",
    "\n",
    "print(intersection) "
   ]
  },
  {
   "cell_type": "markdown",
   "metadata": {
    "colab_type": "text",
    "id": "Q3pUfkR4PJ3G"
   },
   "source": [
    "What the list comprehenion is saying in simple terms is: \"check every item `a` in `list_a` against every item `b` in `list_b` and add it to the list `intersection` if they are equal\".\n",
    "In this example, our list comprehension contains a \"nested conditional for loop\" expression."
   ]
  },
  {
   "cell_type": "markdown",
   "metadata": {
    "colab_type": "text",
    "id": "QAkF1BERPPDl"
   },
   "source": [
    "### Example 5: If-else conditional statements\n",
    "Suppose we wanted to classify characters in a string as either a vowel or a consonant. One way to achieve this using list comprehension is as follows:"
   ]
  },
  {
   "cell_type": "code",
   "execution_count": 7,
   "metadata": {
    "colab": {
     "base_uri": "https://localhost:8080/",
     "height": 34
    },
    "colab_type": "code",
    "id": "9VzwcPbjOy-X",
    "outputId": "dd345a1b-8ca8-43e1-9dfb-e118e1d88609"
   },
   "outputs": [
    {
     "name": "stdout",
     "output_type": "stream",
     "text": [
      "['vowel', 'consonant', 'consonant', 'consonant', 'vowel', 'consonant', 'vowel']\n"
     ]
    }
   ],
   "source": [
    "my_string = 'explore'\n",
    "vowels = 'aeiou'\n",
    "labels = ['vowel' if char in vowels else 'consonant' for char in my_string]\n",
    "print(labels)"
   ]
  },
  {
   "cell_type": "markdown",
   "metadata": {
    "colab_type": "text",
    "id": "tOMOuSh2Pj4n"
   },
   "source": [
    "The list comprehension above contains an if/else condition in addition to the for loop. The expression returns the string \"vowel\" for each character in \"my_string\" that is also contained in \"vowels. If the character is not in vowels, the expression returns the string \"consonant\"."
   ]
  },
  {
   "cell_type": "markdown",
   "metadata": {
    "colab_type": "text",
    "id": "208XmtoRSJx5"
   },
   "source": [
    "### Example 6: Element-wise addition\n",
    "\n",
    "Say, we wanted to perform element-wise addition on two lists. Lucky for us, list comprehensions also allow the use of multiple iterables. Below we use elements from both lists simultaneously to compute a list containing the sum of elements at each index.  "
   ]
  },
  {
   "cell_type": "code",
   "execution_count": 0,
   "metadata": {
    "colab": {},
    "colab_type": "code",
    "id": "W69hxLzragNr"
   },
   "outputs": [],
   "source": [
    "a = [1,2,3]\n",
    "b = [4,5,6]\n",
    "\n",
    "c = [i+j for i,j in zip(a,b)] #where i is an item in list a, and j is an item in list b"
   ]
  },
  {
   "cell_type": "code",
   "execution_count": 0,
   "metadata": {
    "colab": {
     "base_uri": "https://localhost:8080/",
     "height": 34
    },
    "colab_type": "code",
    "id": "eQQE6x7Jazj2",
    "outputId": "dc9208ed-a27d-4ed6-bd3a-a6c12c1d0628"
   },
   "outputs": [
    {
     "name": "stdout",
     "output_type": "stream",
     "text": [
      "[5, 7, 9]\n"
     ]
    }
   ],
   "source": [
    "print(c)"
   ]
  },
  {
   "cell_type": "markdown",
   "metadata": {
    "colab_type": "text",
    "id": "aR6cq9KObKc3"
   },
   "source": [
    "The purpose of `zip()` is to map the indices of multiple lists to each other so that they can be used in the same way as using as single entity. Note that for this method to work, both lists must have the same length."
   ]
  },
  {
   "cell_type": "markdown",
   "metadata": {
    "colab_type": "text",
    "id": "D7toks3jQCXo"
   },
   "source": [
    "# Exercises\n",
    "\n",
    "In the exercises that follow, rewrite the code using list comprehension by replacing the comment \" *_#### Your code here ####_* \" with your solution."
   ]
  },
  {
   "cell_type": "markdown",
   "metadata": {
    "colab_type": "text",
    "id": "fc4gdSL0QKcG"
   },
   "source": [
    "**Exercise 1**"
   ]
  },
  {
   "cell_type": "code",
   "execution_count": 10,
   "metadata": {
    "colab": {},
    "colab_type": "code",
    "id": "rhSF2_ZgQoYS"
   },
   "outputs": [],
   "source": [
    "input_list = [1, 2, 3, 4, 4, 5, 6, 7, 7] \n",
    "  \n",
    "output_list = [] \n",
    "  \n",
    "# Using loop for constructing output list \n",
    "for var in input_list: \n",
    "    if var % 2 == 0: \n",
    "        output_list.append(var) "
   ]
  },
  {
   "cell_type": "code",
   "execution_count": 11,
   "metadata": {},
   "outputs": [
    {
     "data": {
      "text/plain": [
       "[2, 4, 4, 6]"
      ]
     },
     "execution_count": 11,
     "metadata": {},
     "output_type": "execute_result"
    }
   ],
   "source": [
    "output_list"
   ]
  },
  {
   "cell_type": "code",
   "execution_count": 13,
   "metadata": {
    "colab": {},
    "colab_type": "code",
    "id": "0HJfrf5IQy8g"
   },
   "outputs": [
    {
     "data": {
      "text/plain": [
       "[2, 4, 4, 6]"
      ]
     },
     "execution_count": 13,
     "metadata": {},
     "output_type": "execute_result"
    }
   ],
   "source": [
    "# write the above loop as a list comprehension named 'list_comp1'\n",
    "output_list=[i for i in input_list if i%2==0 ]\n",
    "output_list"
   ]
  },
  {
   "cell_type": "code",
   "execution_count": null,
   "metadata": {},
   "outputs": [],
   "source": []
  },
  {
   "cell_type": "markdown",
   "metadata": {
    "colab_type": "text",
    "id": "gk2b9WqYQ6_f"
   },
   "source": [
    "_**Expected Output**_ \n",
    "```python\n",
    "list_comp1 == [2, 4, 4, 6]\n",
    "```"
   ]
  },
  {
   "cell_type": "markdown",
   "metadata": {
    "colab_type": "text",
    "id": "DaW5zC_MR65T"
   },
   "source": [
    "**Exercise 2**"
   ]
  },
  {
   "cell_type": "code",
   "execution_count": 0,
   "metadata": {
    "colab": {},
    "colab_type": "code",
    "id": "P1Syj-fTRvKH"
   },
   "outputs": [],
   "source": [
    "output_list = [] \n",
    "for var in range(1, 10): \n",
    "    output_list.append(var ** 2)"
   ]
  },
  {
   "cell_type": "code",
   "execution_count": 8,
   "metadata": {
    "colab": {},
    "colab_type": "code",
    "id": "VpczKthVSFmg"
   },
   "outputs": [
    {
     "data": {
      "text/plain": [
       "[1, 4, 9, 16, 25, 36, 49, 64, 81]"
      ]
     },
     "execution_count": 8,
     "metadata": {},
     "output_type": "execute_result"
    }
   ],
   "source": [
    "# write the above for loop as a list comprehension named 'list_comp2'\n",
    "list_comp2 = [i**2 for i in range(1,10)]\n",
    "list_comp2"
   ]
  },
  {
   "cell_type": "markdown",
   "metadata": {
    "colab_type": "text",
    "id": "MtGyJNxRSbYu"
   },
   "source": [
    "_**Expected Output**_ \n",
    "```python\n",
    "list_comp2 == [1, 4, 9, 16, 25, 36, 49, 64, 81]\n",
    "```"
   ]
  },
  {
   "cell_type": "markdown",
   "metadata": {
    "colab_type": "text",
    "id": "3_Us7twvSvtM"
   },
   "source": [
    "# Conclusion\n",
    "That's the end of this tutorial, by now you should be able to understand, implement, and recognise list comprehensions in python. Make sure to reinforce your knowledge by replacing your for loops with list comprehensions where possible.\n"
   ]
  },
  {
   "cell_type": "code",
   "execution_count": 2,
   "metadata": {
    "colab": {},
    "colab_type": "code",
    "id": "qD8cfUoE6oV6"
   },
   "outputs": [],
   "source": [
    "import pandas as pd"
   ]
  },
  {
   "cell_type": "code",
   "execution_count": 3,
   "metadata": {},
   "outputs": [
    {
     "data": {
      "text/html": [
       "<div>\n",
       "<style scoped>\n",
       "    .dataframe tbody tr th:only-of-type {\n",
       "        vertical-align: middle;\n",
       "    }\n",
       "\n",
       "    .dataframe tbody tr th {\n",
       "        vertical-align: top;\n",
       "    }\n",
       "\n",
       "    .dataframe thead th {\n",
       "        text-align: right;\n",
       "    }\n",
       "</style>\n",
       "<table border=\"1\" class=\"dataframe\">\n",
       "  <thead>\n",
       "    <tr style=\"text-align: right;\">\n",
       "      <th></th>\n",
       "      <th>Age</th>\n",
       "      <th>Nationality</th>\n",
       "      <th>Overall</th>\n",
       "    </tr>\n",
       "  </thead>\n",
       "  <tbody>\n",
       "    <tr>\n",
       "      <th>Christiano Ronaldo</th>\n",
       "      <td>32</td>\n",
       "      <td>Portugal</td>\n",
       "      <td>94</td>\n",
       "    </tr>\n",
       "    <tr>\n",
       "      <th>Lionel Messi</th>\n",
       "      <td>30</td>\n",
       "      <td>Argentina</td>\n",
       "      <td>93</td>\n",
       "    </tr>\n",
       "    <tr>\n",
       "      <th>Neymar</th>\n",
       "      <td>25</td>\n",
       "      <td>Brazil</td>\n",
       "      <td>92</td>\n",
       "    </tr>\n",
       "  </tbody>\n",
       "</table>\n",
       "</div>"
      ],
      "text/plain": [
       "                    Age Nationality  Overall\n",
       "Christiano Ronaldo   32    Portugal       94\n",
       "Lionel Messi         30   Argentina       93\n",
       "Neymar               25      Brazil       92"
      ]
     },
     "execution_count": 3,
     "metadata": {},
     "output_type": "execute_result"
    }
   ],
   "source": [
    "# Create list of lists containing data\n",
    "list_df = [[32, 'Portugal', 94], [30, 'Argentina', 93], [25 , 'Brazil', 92]]\n",
    "\n",
    "# Create index - names of players\n",
    "index = ['Christiano Ronaldo', 'Lionel Messi', 'Neymar']\n",
    "\n",
    "# Create column names \n",
    "columns = ['Age', 'Nationality', 'Overall']\n",
    "\n",
    "# Create dataframe by passing in data, index and columns\n",
    "pd.DataFrame(data=list_df, index=index, columns=columns)"
   ]
  },
  {
   "cell_type": "code",
   "execution_count": null,
   "metadata": {},
   "outputs": [],
   "source": []
  }
 ],
 "metadata": {
  "accelerator": "GPU",
  "colab": {
   "collapsed_sections": [],
   "name": "9_list_comprehensions.ipynb",
   "provenance": []
  },
  "kernelspec": {
   "display_name": "Python 3",
   "language": "python",
   "name": "python3"
  },
  "language_info": {
   "codemirror_mode": {
    "name": "ipython",
    "version": 3
   },
   "file_extension": ".py",
   "mimetype": "text/x-python",
   "name": "python",
   "nbconvert_exporter": "python",
   "pygments_lexer": "ipython3",
   "version": "3.7.6"
  }
 },
 "nbformat": 4,
 "nbformat_minor": 1
}
